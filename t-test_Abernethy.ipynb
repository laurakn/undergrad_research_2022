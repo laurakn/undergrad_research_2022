{
 "cells": [
  {
   "cell_type": "markdown",
   "id": "170a57ec",
   "metadata": {},
   "source": [
    "## Read in data"
   ]
  },
  {
   "cell_type": "code",
   "execution_count": 23,
   "id": "244d8b59",
   "metadata": {},
   "outputs": [],
   "source": [
    "import numpy as np\n",
    "import pandas as pd\n",
    "import scipy.stats"
   ]
  },
  {
   "cell_type": "code",
   "execution_count": 24,
   "id": "2b9f104a",
   "metadata": {},
   "outputs": [],
   "source": [
    "Zhong = pd.read_csv(\"eqaul_oppo_Abernethy.csv\")\n",
    "Ruoyu = pd.read_csv(\"Ruoyu/Abernethy_t_vs_fair.csv\")"
   ]
  },
  {
   "cell_type": "code",
   "execution_count": 25,
   "id": "12af50a6",
   "metadata": {},
   "outputs": [],
   "source": [
    "Zhong = Zhong[\"equal_opportunity\"]"
   ]
  },
  {
   "cell_type": "code",
   "execution_count": 26,
   "id": "6831a727",
   "metadata": {},
   "outputs": [],
   "source": [
    "Ruoyu = Ruoyu[\"equal_opportunity\"]"
   ]
  },
  {
   "cell_type": "code",
   "execution_count": 27,
   "id": "2a91dbd6",
   "metadata": {},
   "outputs": [],
   "source": [
    "Zhong = Zhong.tolist()"
   ]
  },
  {
   "cell_type": "code",
   "execution_count": 28,
   "id": "012cd95d",
   "metadata": {},
   "outputs": [],
   "source": [
    "Ruoyu = Ruoyu.tolist()"
   ]
  },
  {
   "cell_type": "markdown",
   "id": "86be8dba",
   "metadata": {},
   "source": [
    "## Set p value"
   ]
  },
  {
   "cell_type": "code",
   "execution_count": 29,
   "id": "ecd87d32",
   "metadata": {},
   "outputs": [],
   "source": [
    "p = 0.05 / 6"
   ]
  },
  {
   "cell_type": "code",
   "execution_count": 30,
   "id": "0b5e16cf",
   "metadata": {},
   "outputs": [
    {
     "data": {
      "text/plain": [
       "0.008333333333333333"
      ]
     },
     "execution_count": 30,
     "metadata": {},
     "output_type": "execute_result"
    }
   ],
   "source": [
    "p"
   ]
  },
  {
   "cell_type": "markdown",
   "id": "ac5b2348",
   "metadata": {},
   "source": [
    "## p = 0.4"
   ]
  },
  {
   "cell_type": "code",
   "execution_count": 31,
   "id": "5a748f3d",
   "metadata": {},
   "outputs": [],
   "source": [
    "score1 = np.array(Zhong[161:181:2])"
   ]
  },
  {
   "cell_type": "code",
   "execution_count": 32,
   "id": "f5ac8ea3",
   "metadata": {},
   "outputs": [],
   "source": [
    "score2 = np.array(Ruoyu[1:21:2])"
   ]
  },
  {
   "cell_type": "code",
   "execution_count": 33,
   "id": "2cd287a4",
   "metadata": {},
   "outputs": [],
   "source": [
    "mean1 = np.mean(score1)\n",
    "mean2 = np.mean(score2)"
   ]
  },
  {
   "cell_type": "code",
   "execution_count": 34,
   "id": "361bcd79",
   "metadata": {},
   "outputs": [],
   "source": [
    "s1 = np.std(score1)\n",
    "s2 = np.std(score2)"
   ]
  },
  {
   "cell_type": "code",
   "execution_count": 35,
   "id": "827c6980",
   "metadata": {},
   "outputs": [],
   "source": [
    "variance = (9*s1**2 + 9*s2**2)/18"
   ]
  },
  {
   "cell_type": "code",
   "execution_count": 36,
   "id": "6e8a3ded",
   "metadata": {},
   "outputs": [],
   "source": [
    "t = (mean1 - mean2) / (variance**0.5 * (1/10 + 1/10)**0.5)"
   ]
  },
  {
   "cell_type": "code",
   "execution_count": 37,
   "id": "3c58510f",
   "metadata": {},
   "outputs": [
    {
     "data": {
      "text/plain": [
       "2.151704093935444"
      ]
     },
     "execution_count": 37,
     "metadata": {},
     "output_type": "execute_result"
    }
   ],
   "source": [
    "t"
   ]
  },
  {
   "cell_type": "code",
   "execution_count": 42,
   "id": "26e9762d",
   "metadata": {},
   "outputs": [
    {
     "data": {
      "text/plain": [
       "0.022622141035870014"
      ]
     },
     "execution_count": 42,
     "metadata": {},
     "output_type": "execute_result"
    }
   ],
   "source": [
    "1 - scipy.stats.t.cdf(t, 18)"
   ]
  },
  {
   "cell_type": "markdown",
   "id": "d2944784",
   "metadata": {},
   "source": [
    "## p = 0.5"
   ]
  },
  {
   "cell_type": "code",
   "execution_count": 44,
   "id": "399e921c",
   "metadata": {},
   "outputs": [],
   "source": [
    "score1 = np.array(Zhong[201:221:2])\n",
    "score2 = np.array(Ruoyu[41:61:2])"
   ]
  },
  {
   "cell_type": "code",
   "execution_count": 45,
   "id": "6dee031b",
   "metadata": {},
   "outputs": [],
   "source": [
    "mean1 = np.mean(score1)\n",
    "mean2 = np.mean(score2)"
   ]
  },
  {
   "cell_type": "code",
   "execution_count": 46,
   "id": "f657d4b7",
   "metadata": {},
   "outputs": [],
   "source": [
    "s1 = np.std(score1)\n",
    "s2 = np.std(score2)"
   ]
  },
  {
   "cell_type": "code",
   "execution_count": 47,
   "id": "9ee7445c",
   "metadata": {},
   "outputs": [],
   "source": [
    "variance = (9*s1**2 + 9*s2**2)/18"
   ]
  },
  {
   "cell_type": "code",
   "execution_count": 48,
   "id": "1dcb663d",
   "metadata": {},
   "outputs": [],
   "source": [
    "t = (mean1 - mean2) / (variance**0.5 * (1/10 + 1/10)**0.5)"
   ]
  },
  {
   "cell_type": "code",
   "execution_count": 49,
   "id": "5bd2e20a",
   "metadata": {},
   "outputs": [
    {
     "data": {
      "text/plain": [
       "0.7230077957314001"
      ]
     },
     "execution_count": 49,
     "metadata": {},
     "output_type": "execute_result"
    }
   ],
   "source": [
    "t"
   ]
  },
  {
   "cell_type": "code",
   "execution_count": 50,
   "id": "67d00c59",
   "metadata": {},
   "outputs": [
    {
     "data": {
      "text/plain": [
       "0.23948269163813463"
      ]
     },
     "execution_count": 50,
     "metadata": {},
     "output_type": "execute_result"
    }
   ],
   "source": [
    "1 - scipy.stats.t.cdf(t, 18)"
   ]
  },
  {
   "cell_type": "markdown",
   "id": "0f6906c6",
   "metadata": {},
   "source": [
    "## p = 0.6"
   ]
  },
  {
   "cell_type": "code",
   "execution_count": 51,
   "id": "f0119aaf",
   "metadata": {},
   "outputs": [],
   "source": [
    "score1 = np.array(Zhong[241:261:2])\n",
    "score2 = np.array(Ruoyu[81:101:2])"
   ]
  },
  {
   "cell_type": "code",
   "execution_count": 52,
   "id": "d264a27f",
   "metadata": {},
   "outputs": [],
   "source": [
    "mean1 = np.mean(score1)\n",
    "mean2 = np.mean(score2)"
   ]
  },
  {
   "cell_type": "code",
   "execution_count": 53,
   "id": "e599f58a",
   "metadata": {},
   "outputs": [],
   "source": [
    "s1 = np.std(score1)\n",
    "s2 = np.std(score2)"
   ]
  },
  {
   "cell_type": "code",
   "execution_count": 54,
   "id": "5bc11134",
   "metadata": {},
   "outputs": [],
   "source": [
    "variance = (9*s1**2 + 9*s2**2)/18"
   ]
  },
  {
   "cell_type": "code",
   "execution_count": 55,
   "id": "8c72f939",
   "metadata": {},
   "outputs": [],
   "source": [
    "t = (mean1 - mean2) / (variance**0.5 * (1/10 + 1/10)**0.5)"
   ]
  },
  {
   "cell_type": "code",
   "execution_count": 56,
   "id": "d35f83a0",
   "metadata": {},
   "outputs": [
    {
     "data": {
      "text/plain": [
       "1.5620483037994821"
      ]
     },
     "execution_count": 56,
     "metadata": {},
     "output_type": "execute_result"
    }
   ],
   "source": [
    "t"
   ]
  },
  {
   "cell_type": "code",
   "execution_count": 57,
   "id": "78c54fb6",
   "metadata": {},
   "outputs": [
    {
     "data": {
      "text/plain": [
       "0.06784319807854577"
      ]
     },
     "execution_count": 57,
     "metadata": {},
     "output_type": "execute_result"
    }
   ],
   "source": [
    "1 - scipy.stats.t.cdf(t, 18)"
   ]
  },
  {
   "cell_type": "code",
   "execution_count": null,
   "id": "84107e2c",
   "metadata": {},
   "outputs": [],
   "source": []
  }
 ],
 "metadata": {
  "kernelspec": {
   "display_name": "Python 3 (ipykernel)",
   "language": "python",
   "name": "python3"
  },
  "language_info": {
   "codemirror_mode": {
    "name": "ipython",
    "version": 3
   },
   "file_extension": ".py",
   "mimetype": "text/x-python",
   "name": "python",
   "nbconvert_exporter": "python",
   "pygments_lexer": "ipython3",
   "version": "3.7.6"
  }
 },
 "nbformat": 4,
 "nbformat_minor": 5
}
